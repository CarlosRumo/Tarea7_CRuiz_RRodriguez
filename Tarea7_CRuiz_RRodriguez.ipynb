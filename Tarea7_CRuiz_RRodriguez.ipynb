{
 "cells": [
  {
   "cell_type": "markdown",
   "metadata": {},
   "source": [
    "<img style=\"float: left; margin: 30px 15px 15px 15px;\" src=\"https://pngimage.net/wp-content/uploads/2018/06/logo-iteso-png-5.png\" width=\"300\" height=\"500\" /> \n",
    "    \n",
    "    \n",
    "### <font color='navy'> Simulación de procesos financieros. \n",
    "\n",
    "**Nombres:** Carlos Ruiz.\n",
    "\n",
    "**Fecha:** 17 de septiembre del 2020.\n",
    "\n",
    "**Expediente** : IF707135.\n",
    "**Profesor:** Oscar David Jaramillo Zuluaga.\n",
    "\n",
    "# Tarea 7: Clase 15"
   ]
  },
  {
   "cell_type": "markdown",
   "metadata": {},
   "source": [
    "## Enunciado de tarea \n",
    "Aproxime el valor de la siguiente integral usando el método monte carlo crudo y método de reducción de varianza de muestreo estratíficado\n",
    "\n",
    "$$I=\\int_{0}^{1}x^2\\text{d}x=\\left.\\frac{x^3}{3}\\right|_{x=0}^{x=1}=\\frac{1}{3}\\approx 0.33333$$"
   ]
  },
  {
   "cell_type": "markdown",
   "metadata": {},
   "source": [
    "### Ejercicio 1:\n",
    "1. Cree una función que realice el método de muestreo estratíficado, recibiendo como único parámetro de entrada la cantidad de estratos y retornando las variables estratíficadas correspondientes."
   ]
  },
  {
   "cell_type": "code",
   "execution_count": 1,
   "metadata": {},
   "outputs": [],
   "source": [
    "import numpy as np\n",
    "from functools import reduce\n",
    "import time\n",
    "import matplotlib.pyplot as plt\n",
    "import scipy.stats as st     \n",
    "import pandas as pd"
   ]
  },
  {
   "cell_type": "code",
   "execution_count": 2,
   "metadata": {},
   "outputs": [],
   "source": [
    "def int_montecarlo(f, a, b, U):\n",
    "    return (b-a)/len(U)*np.sum(f(U))"
   ]
  },
  {
   "cell_type": "code",
   "execution_count": 3,
   "metadata": {},
   "outputs": [],
   "source": [
    "F = lambda x: x**2"
   ]
  },
  {
   "cell_type": "code",
   "execution_count": 4,
   "metadata": {},
   "outputs": [],
   "source": [
    "def int_estratificado(t):\n",
    "    U_2 = np.random.rand(t)\n",
    "    i = np.arange(0,t)\n",
    "    int_estratificado = (U_2+i)/t\n",
    "    return int_estratificado"
   ]
  },
  {
   "cell_type": "code",
   "execution_count": 5,
   "metadata": {},
   "outputs": [],
   "source": [
    "N = np.logspace(1,7,7,dtype=int)\n",
    "estratos = list(map(lambda x: int_estratificado(x),N))\n",
    "muestras = list(map(lambda x : F(x),estratos))\n",
    "medias = (list(map(lambda x : np.mean(x),muestras)))"
   ]
  },
  {
   "cell_type": "markdown",
   "metadata": {},
   "source": [
    "### Ejercicio 2:\n",
    "2. Reporte los resultados de la aproximación de la integral usando montecarlo crudo y muestreo estratíficado, en un Dataframe con la información mostrada en la siguiente imagen:"
   ]
  },
  {
   "cell_type": "code",
   "execution_count": 6,
   "metadata": {},
   "outputs": [
    {
     "data": {
      "text/html": [
       "<div>\n",
       "<style scoped>\n",
       "    .dataframe tbody tr th:only-of-type {\n",
       "        vertical-align: middle;\n",
       "    }\n",
       "\n",
       "    .dataframe tbody tr th {\n",
       "        vertical-align: top;\n",
       "    }\n",
       "\n",
       "    .dataframe thead th {\n",
       "        text-align: right;\n",
       "    }\n",
       "</style>\n",
       "<table border=\"1\" class=\"dataframe\">\n",
       "  <thead>\n",
       "    <tr style=\"text-align: right;\">\n",
       "      <th></th>\n",
       "      <th>Montecarlo crudo</th>\n",
       "      <th>Error_relativo1%</th>\n",
       "      <th>Muestreo estratificado</th>\n",
       "      <th>Error_relativo2%</th>\n",
       "    </tr>\n",
       "    <tr>\n",
       "      <th>Cantidad_terminos</th>\n",
       "      <th></th>\n",
       "      <th></th>\n",
       "      <th></th>\n",
       "      <th></th>\n",
       "    </tr>\n",
       "  </thead>\n",
       "  <tbody>\n",
       "    <tr>\n",
       "      <th>10</th>\n",
       "      <td>0.439391</td>\n",
       "      <td>31.817168</td>\n",
       "      <td>0.338340</td>\n",
       "      <td>1.502013e+00</td>\n",
       "    </tr>\n",
       "    <tr>\n",
       "      <th>100</th>\n",
       "      <td>0.345142</td>\n",
       "      <td>3.542499</td>\n",
       "      <td>0.333169</td>\n",
       "      <td>4.918828e-02</td>\n",
       "    </tr>\n",
       "    <tr>\n",
       "      <th>1000</th>\n",
       "      <td>0.343148</td>\n",
       "      <td>2.944378</td>\n",
       "      <td>0.333335</td>\n",
       "      <td>3.602422e-04</td>\n",
       "    </tr>\n",
       "    <tr>\n",
       "      <th>10000</th>\n",
       "      <td>0.336946</td>\n",
       "      <td>1.083917</td>\n",
       "      <td>0.333333</td>\n",
       "      <td>1.161821e-05</td>\n",
       "    </tr>\n",
       "    <tr>\n",
       "      <th>100000</th>\n",
       "      <td>0.332520</td>\n",
       "      <td>0.244100</td>\n",
       "      <td>0.333333</td>\n",
       "      <td>1.891111e-06</td>\n",
       "    </tr>\n",
       "    <tr>\n",
       "      <th>1000000</th>\n",
       "      <td>0.333690</td>\n",
       "      <td>0.106881</td>\n",
       "      <td>0.333333</td>\n",
       "      <td>5.423968e-08</td>\n",
       "    </tr>\n",
       "    <tr>\n",
       "      <th>10000000</th>\n",
       "      <td>0.333227</td>\n",
       "      <td>0.031906</td>\n",
       "      <td>0.333333</td>\n",
       "      <td>3.922346e-09</td>\n",
       "    </tr>\n",
       "  </tbody>\n",
       "</table>\n",
       "</div>"
      ],
      "text/plain": [
       "                   Montecarlo crudo  Error_relativo1%  Muestreo estratificado  \\\n",
       "Cantidad_terminos                                                               \n",
       "10                         0.439391         31.817168                0.338340   \n",
       "100                        0.345142          3.542499                0.333169   \n",
       "1000                       0.343148          2.944378                0.333335   \n",
       "10000                      0.336946          1.083917                0.333333   \n",
       "100000                     0.332520          0.244100                0.333333   \n",
       "1000000                    0.333690          0.106881                0.333333   \n",
       "10000000                   0.333227          0.031906                0.333333   \n",
       "\n",
       "                   Error_relativo2%  \n",
       "Cantidad_terminos                    \n",
       "10                     1.502013e+00  \n",
       "100                    4.918828e-02  \n",
       "1000                   3.602422e-04  \n",
       "10000                  1.161821e-05  \n",
       "100000                 1.891111e-06  \n",
       "1000000                5.423968e-08  \n",
       "10000000               3.922346e-09  "
      ]
     },
     "execution_count": 6,
     "metadata": {},
     "output_type": "execute_result"
    }
   ],
   "source": [
    "I = 1/3\n",
    "# intervalo de integración\n",
    "a = 0; b = 1\n",
    "\n",
    "# Definimos la tabla donde se mostrarán los resultados\n",
    "df = pd.DataFrame(index=N,columns=['Montecarlo crudo', 'Error_relativo1%', 'Muestreo estratificado', 'Error_relativo2%'], dtype='float')\n",
    "df.index.name = \"Cantidad_terminos\"\n",
    "\n",
    "# Números aleatorios dependiente de la cantidad de términos N\n",
    "ui = list(map(lambda N:np.random.uniform(a,b,N),N))\n",
    "\n",
    "# Calculamos la aproximación por montecarlo dependiendo de la cantidad de términos que hayamos creado con ui\n",
    "I_mc = list(map(lambda Y:int_montecarlo(lambda x:x**2,a,b,Y),ui))\n",
    "\n",
    "# Mostramos los resultados en la tabla previamente creada\n",
    "df.loc[N,\"Montecarlo crudo\"] = I_mc\n",
    "df.loc[N,\"Error_relativo1%\"] = np.abs(df.loc[N,\"Montecarlo crudo\"]-I)*100/I\n",
    "df.loc[N,\"Muestreo estratificado\"] = medias\n",
    "df.loc[N,\"Error_relativo2%\"] = np.abs(df.loc[N,\"Muestreo estratificado\"]-I)*100/I\n",
    "df"
   ]
  },
  {
   "cell_type": "markdown",
   "metadata": {},
   "source": [
    "![image.png](attachment:image.png)<img width=\"400px\" height=\"400px\" src=\"imagen.png\"/>\n",
    "    \n",
    "Además use el método de estratificación donde se divide en B estratos, visto la clase pasada y compare el resultado con los métodos anteriores cuando se toman $2,4,6,10$ estratos respectivamente, concluya."
   ]
  },
  {
   "cell_type": "code",
   "execution_count": 7,
   "metadata": {},
   "outputs": [
    {
     "data": {
      "text/plain": [
       "0.00012327379913521525"
      ]
     },
     "execution_count": 7,
     "metadata": {},
     "output_type": "execute_result"
    }
   ],
   "source": [
    "# Crude MonteCarlo technique\n",
    "N = 10**4\n",
    "f_x = lambda x: (3/2)*(x**2) if -1 <= x <= 1 else 0\n",
    "F_x = lambda x: x**(1/3) if x >= 0 else -(-x)**(1/3)\n",
    "f_inv = lambda u: F_x((2*u)-1)\n",
    "u_1 = np.random.uniform(0, 1, N)\n",
    "\n",
    "samples = list(map(lambda x: f_inv(x), u_1))\n",
    "\n",
    "np.mean(samples)"
   ]
  },
  {
   "cell_type": "code",
   "execution_count": 8,
   "metadata": {},
   "outputs": [
    {
     "data": {
      "text/plain": [
       "0.2823302932522043"
      ]
     },
     "execution_count": 8,
     "metadata": {},
     "output_type": "execute_result"
    }
   ],
   "source": [
    "# Stratified sample technique\n",
    "x1 = np.random.uniform(0, .6, 3)\n",
    "x2 = np.random.uniform(.6, .9, 3)\n",
    "x3 = np.random.uniform(.9, 1, 4)\n",
    "\n",
    "x = [x1, x2, x3]\n",
    "r = [.5, 1, 4]\n",
    "\n",
    "samples = [list(map(lambda x: f_inv(x), i)) for i in x]\n",
    "estrato = [list(map(lambda i, r: i/r, i,r))for i in samples]\n",
    "np.concatenate(estrato).mean()"
   ]
  },
  {
   "cell_type": "code",
   "execution_count": null,
   "metadata": {},
   "outputs": [],
   "source": []
  }
 ],
 "metadata": {
  "kernelspec": {
   "display_name": "Python 3",
   "language": "python",
   "name": "python3"
  },
  "language_info": {
   "codemirror_mode": {
    "name": "ipython",
    "version": 3
   },
   "file_extension": ".py",
   "mimetype": "text/x-python",
   "name": "python",
   "nbconvert_exporter": "python",
   "pygments_lexer": "ipython3",
   "version": "3.8.3"
  }
 },
 "nbformat": 4,
 "nbformat_minor": 4
}
